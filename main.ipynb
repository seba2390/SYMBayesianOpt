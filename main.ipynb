{
 "cells": [
  {
   "cell_type": "code",
   "execution_count": 46,
   "id": "initial_id",
   "metadata": {
    "collapsed": true,
    "ExecuteTime": {
     "end_time": "2023-11-12T22:29:13.751475Z",
     "start_time": "2023-11-12T22:29:13.749208Z"
    }
   },
   "outputs": [],
   "source": [
    "import numpy as np\n",
    "import matplotlib.pyplot as plt\n",
    "from tqdm import tqdm\n",
    "\n",
    "from src.Optimizer import BayesianOptimization\n",
    "from src.Utils import rosenbrock, rbf_kernel"
   ]
  },
  {
   "cell_type": "code",
   "execution_count": 47,
   "outputs": [
    {
     "data": {
      "text/plain": "{'x': array([1.0729903 , 1.15155156]), 'y': 0.005333507219698224}"
     },
     "execution_count": 47,
     "metadata": {},
     "output_type": "execute_result"
    }
   ],
   "source": [
    "n_total_evaluations = 10\n",
    "n_warmup = 5\n",
    "limits = [(0.5,1.15), (0.5,1.5)]\n",
    "opt = BayesianOptimization(kernel=rbf_kernel, \n",
    "                           optimization_function=rosenbrock,\n",
    "                           limits=limits)\n",
    "res = opt.optimize(N_warmup=n_warmup,N_optimize=n_total_evaluations-n_warmup)\n",
    "res"
   ],
   "metadata": {
    "collapsed": false,
    "ExecuteTime": {
     "end_time": "2023-11-12T22:29:13.808743Z",
     "start_time": "2023-11-12T22:29:13.755425Z"
    }
   },
   "id": "f908f6ee9cf25edd"
  },
  {
   "cell_type": "code",
   "execution_count": 47,
   "outputs": [],
   "source": [],
   "metadata": {
    "collapsed": false,
    "ExecuteTime": {
     "end_time": "2023-11-12T22:29:13.809021Z",
     "start_time": "2023-11-12T22:29:13.807932Z"
    }
   },
   "id": "c79833aa859925b8"
  }
 ],
 "metadata": {
  "kernelspec": {
   "display_name": "Python 3",
   "language": "python",
   "name": "python3"
  },
  "language_info": {
   "codemirror_mode": {
    "name": "ipython",
    "version": 2
   },
   "file_extension": ".py",
   "mimetype": "text/x-python",
   "name": "python",
   "nbconvert_exporter": "python",
   "pygments_lexer": "ipython2",
   "version": "2.7.6"
  }
 },
 "nbformat": 4,
 "nbformat_minor": 5
}
