{
 "cells": [
  {
   "cell_type": "code",
   "execution_count": 5,
   "id": "initial_id",
   "metadata": {
    "collapsed": true,
    "ExecuteTime": {
     "end_time": "2023-11-09T03:12:16.499234Z",
     "start_time": "2023-11-09T03:12:16.496735Z"
    }
   },
   "outputs": [],
   "source": [
    "from typing import *\n",
    "\n",
    "import numpy as np\n",
    "from numpy.random import uniform"
   ]
  },
  {
   "cell_type": "code",
   "execution_count": 8,
   "outputs": [],
   "source": [
    "class HyperParameters:\n",
    "    def __init__(self, \n",
    "                 num_params:int, \n",
    "                 limits: list[tuple[float,float]], \n",
    "                 parameters: np.ndarray[float]=None):\n",
    "        if not isinstance(num_params, int):\n",
    "            raise TypeError('num_params must be an integer.')\n",
    "        if num_params <= 0:\n",
    "            raise ValueError('num_params must be greater than 0.')\n",
    "        if len(limits) != num_params:\n",
    "            raise ValueError('list of limits should be of length \"num_params\". ')\n",
    "        if parameters is not None:\n",
    "            if len(parameters) != len(limits):\n",
    "                raise ValueError('When explicitly provided, the number of parameters should be equal to \"num_params\". ')\n",
    "        self.num_params = num_params\n",
    "        self.limits = limits\n",
    "        self.parameters = parameters\n",
    "        \n",
    "    def get_parameters(self):\n",
    "        if self.parameters is None:\n",
    "            raise RuntimeError(f' \"parameters\" attribute has not been set. ')\n",
    "        return self.parameters\n",
    "    \n",
    "    def set_parameters(self, parameters: np.ndarray[float]):\n",
    "        if len(parameters) != len(self.limits):\n",
    "                raise ValueError('When explicitly provided, the number of parameters should be equal to \"num_params\". ')\n",
    "        self.parameters = parameters\n",
    "    \n",
    "    def get_random_parameters(self, distribution: str = 'uniform'):\n",
    "        if distribution == 'uniform':\n",
    "            self.parameters = np.array([uniform(low=limit[0], high=limit[1], size=1) for limit in self.limits])\n",
    "            return self.get_parameters()\n",
    "        \n",
    "\n",
    "class CovarianceMatrix:\n",
    "    def __init__(self, kernel: Callable):\n",
    "        self.kernel = kernel\n",
    "        self.matrix = None\n",
    "        \n",
    "    def set_matrix(self, samples: list[np.ndarray[float]]):\n",
    "        N = len(samples)\n",
    "        matrix = np.empty((N, N),dtype=float)\n",
    "        for i in range(N):\n",
    "            for j in range(i,N):\n",
    "                matrix[i,j] = self.kernel(samples[i],samples[j])\n",
    "                if i != j:\n",
    "                    matrix[j, i] = matrix[i, j]\n",
    "        self.matrix = matrix\n",
    "    \n",
    "    def get_matrix(self):\n",
    "        if self.matrix is None:\n",
    "            raise RuntimeError(f' \"matrix\" attribute has not yet been set. ')\n",
    "        return self.matrix\n",
    "    \n",
    "    \n",
    "def rbf_kernel(x1, x2, length_scale=1.0, sigma_f=1.0):\n",
    "    \"\"\"\n",
    "    Compute the Radial Basis Function (RBF) kernel between two d-dimensional vectors.\n",
    "\n",
    "    :param x1: First d-dimensional input vector.\n",
    "    :param x2: Second d-dimensional input vector.\n",
    "    :param length_scale: The length scale of the kernel.\n",
    "    :param sigma_f: The signal variance (amplitude) of the kernel.\n",
    "    :return: Scalar value representing the covariance between x1 and x2.\n",
    "    \"\"\"\n",
    "    # Ensure the inputs are arrays (in case they are lists or tuples)\n",
    "    x1 = np.asarray(x1)\n",
    "    x2 = np.asarray(x2)\n",
    "    \n",
    "    # Compute the squared Euclidean distance between the vectors\n",
    "    sqdist = np.sum((x1 - x2)**2)\n",
    "    \n",
    "    # Compute the RBF kernel\n",
    "    return sigma_f**2 * np.exp(-0.5 / length_scale**2 * sqdist)  \n",
    "        \n",
    "        \n",
    "    \n",
    "def rosenbrock(x: float, y: float) -> float:\n",
    "    return (1 - x) ** 2 + 100 * (y-x ** 2) ** 2"
   ],
   "metadata": {
    "collapsed": false,
    "ExecuteTime": {
     "end_time": "2023-11-09T03:13:54.039647Z",
     "start_time": "2023-11-09T03:13:54.036850Z"
    }
   },
   "id": "f908f6ee9cf25edd"
  },
  {
   "cell_type": "code",
   "execution_count": 9,
   "outputs": [
    {
     "data": {
      "text/plain": "0.1353352832366127"
     },
     "execution_count": 9,
     "metadata": {},
     "output_type": "execute_result"
    }
   ],
   "source": [
    "a, b = np.array([1,2]), np.array([3,2])\n",
    "rbf_kernel(a,b)"
   ],
   "metadata": {
    "collapsed": false,
    "ExecuteTime": {
     "end_time": "2023-11-09T03:13:54.697711Z",
     "start_time": "2023-11-09T03:13:54.694921Z"
    }
   },
   "id": "1d3d05facbb5384c"
  },
  {
   "cell_type": "code",
   "execution_count": null,
   "outputs": [],
   "source": [],
   "metadata": {
    "collapsed": false
   },
   "id": "739c2989a7523546"
  }
 ],
 "metadata": {
  "kernelspec": {
   "display_name": "Python 3",
   "language": "python",
   "name": "python3"
  },
  "language_info": {
   "codemirror_mode": {
    "name": "ipython",
    "version": 2
   },
   "file_extension": ".py",
   "mimetype": "text/x-python",
   "name": "python",
   "nbconvert_exporter": "python",
   "pygments_lexer": "ipython2",
   "version": "2.7.6"
  }
 },
 "nbformat": 4,
 "nbformat_minor": 5
}
