{
 "cells": [
  {
   "cell_type": "code",
   "execution_count": 5,
   "id": "initial_id",
   "metadata": {
    "collapsed": true,
    "ExecuteTime": {
     "end_time": "2023-11-09T03:12:16.499234Z",
     "start_time": "2023-11-09T03:12:16.496735Z"
    }
   },
   "outputs": [],
   "source": [
    "from typing import *\n",
    "\n",
    "import numpy as np\n",
    "from numpy.random import uniform"
   ]
  },
  {
   "cell_type": "code",
   "execution_count": 8,
   "outputs": [],
   "source": [
    "class HyperParameters:\n",
    "    def __init__(self, \n",
    "                 num_params:int, \n",
    "                 limits: list[tuple[float,float]], \n",
    "                 parameters: np.ndarray[float]=None):\n",
    "        if not isinstance(num_params, int):\n",
    "            raise TypeError('num_params must be an integer.')\n",
    "        if num_params <= 0:\n",
    "            raise ValueError('num_params must be greater than 0.')\n",
    "        if len(limits) != num_params:\n",
    "            raise ValueError('list of limits should be of length \"num_params\". ')\n",
    "        if parameters is not None:\n",
    "            if len(parameters) != len(limits):\n",
    "                raise ValueError('When explicitly provided, the number of parameters should be equal to \"num_params\". ')\n",
    "        self.num_params = num_params\n",
    "        self.limits = limits\n",
    "        self.parameters = parameters\n",
    "        \n",
    "    def get_parameters(self):\n",
    "        if self.parameters is None:\n",
    "            raise RuntimeError(f' \"parameters\" attribute has not been set. ')\n",
    "        return self.parameters\n",
    "    \n",
    "    def set_parameters(self, parameters: np.ndarray[float]):\n",
    "        if len(parameters) != len(self.limits):\n",
    "                raise ValueError('When explicitly provided, the number of parameters should be equal to \"num_params\". ')\n",
    "        self.parameters = parameters\n",
    "    \n",
    "    def get_random_parameters(self, distribution: str = 'uniform'):\n",
    "        if distribution == 'uniform':\n",
    "            self.parameters = np.array([uniform(low=limit[0], high=limit[1], size=1) for limit in self.limits])\n",
    "            return self.get_parameters()\n",
    "        \n",
    "\n",
    "class CovarianceMatrix:\n",
    "    def __init__(self, kernel: Callable):\n",
    "        self.kernel = kernel\n",
    "        self.matrix = None\n",
    "        self.samples = []\n",
    "        \n",
    "    def update_matrix(self, new_samples: list[np.ndarray[float]]):\n",
    "        # Updating samples\n",
    "        self.samples.extend(new_samples)\n",
    "        \n",
    "        # Filling matrix for first time\n",
    "        if self.matrix is None:\n",
    "            N = len(self.samples)\n",
    "            matrix = np.empty((N, N), dtype=float)\n",
    "            for i in range(N):\n",
    "                for j in range(i,N):\n",
    "                    matrix[i,j] = self.kernel(self.samples[i],self.samples[j])\n",
    "                    if i != j:\n",
    "                        matrix[j, i] = matrix[i, j]\n",
    "            self.matrix = matrix\n",
    "            \n",
    "        # Updating existing matrix \n",
    "        else:\n",
    "            N_new, N_old = len(new_samples), self.matrix.shape[0]\n",
    "            N_total = N_new + N_old\n",
    "            total_matrix = np.empty((N_total, N_total), dtype=float)\n",
    "            \n",
    "            # Updating total matrix w. old covariances\n",
    "            total_matrix[:N_old,:N_old] = self.matrix\n",
    "            \n",
    "            # Calculating covariances between old and new samples\n",
    "            for i in range(N_old):\n",
    "                for j in range(N_new):\n",
    "                    total_matrix[i, N_old + j] = self.kernel(self.samples[i], new_samples[j])\n",
    "                    total_matrix[N_old + j, i] = total_matrix[i, N_old + j]\n",
    "            \n",
    "            # Calculating covariances between new samples\n",
    "            for i in range(N_new):\n",
    "                for j in range(i, N_new):\n",
    "                    total_matrix[N_old + i, N_old + j] = self.kernel(new_samples[i], new_samples[j])\n",
    "                    if i != j:\n",
    "                        total_matrix[N_old + j, N_old + i] = total_matrix[N_old + i, N_old + j]\n",
    "                       \n",
    "    def get_matrix(self):\n",
    "        if self.matrix is None:\n",
    "            raise RuntimeError(f' \"matrix\" attribute has not yet been set. Method: \".update_matrix()\" must be called first. ')\n",
    "        return self.matrix\n",
    "    \n",
    "\n",
    "class GaussianProcess:\n",
    "    def __init__(self):\n",
    "        \n",
    "\n",
    "    \n",
    "def rbf_kernel(x1, x2, length_scale=1.0, sigma_f=1.0):\n",
    "    \"\"\"\n",
    "    Compute the Radial Basis Function (RBF) kernel between two d-dimensional vectors.\n",
    "\n",
    "    :param x1: First d-dimensional input vector.\n",
    "    :param x2: Second d-dimensional input vector.\n",
    "    :param length_scale: The length scale of the kernel.\n",
    "    :param sigma_f: The signal variance (amplitude) of the kernel.\n",
    "    :return: Scalar value representing the covariance between x1 and x2.\n",
    "    \"\"\"\n",
    "    # Ensure the inputs are arrays (in case they are lists or tuples)\n",
    "    x1 = np.asarray(x1)\n",
    "    x2 = np.asarray(x2)\n",
    "    \n",
    "    # Compute the squared Euclidean distance between the vectors\n",
    "    sqdist = np.sum((x1 - x2)**2)\n",
    "    \n",
    "    # Compute the RBF kernel\n",
    "    return sigma_f**2 * np.exp(-0.5 / length_scale**2 * sqdist)  \n",
    "        \n",
    "        \n",
    "    \n",
    "def rosenbrock(x: float, y: float) -> float:\n",
    "    return (1 - x) ** 2 + 100 * (y-x ** 2) ** 2"
   ],
   "metadata": {
    "collapsed": false,
    "ExecuteTime": {
     "end_time": "2023-11-09T03:13:54.039647Z",
     "start_time": "2023-11-09T03:13:54.036850Z"
    }
   },
   "id": "f908f6ee9cf25edd"
  },
  {
   "cell_type": "code",
   "execution_count": 9,
   "outputs": [
    {
     "data": {
      "text/plain": "0.1353352832366127"
     },
     "execution_count": 9,
     "metadata": {},
     "output_type": "execute_result"
    }
   ],
   "source": [
    "a, b = np.array([1,2]), np.array([3,2])\n",
    "rbf_kernel(a,b)"
   ],
   "metadata": {
    "collapsed": false,
    "ExecuteTime": {
     "end_time": "2023-11-09T03:13:54.697711Z",
     "start_time": "2023-11-09T03:13:54.694921Z"
    }
   },
   "id": "1d3d05facbb5384c"
  },
  {
   "cell_type": "code",
   "execution_count": 104,
   "outputs": [],
   "source": [
    "import numpy as np\n",
    "A = np.array([['x_11', 'x_12', 'x_13', 'x_14'],\n",
    "              ['x_21', 'x_22', 'x_23', 'x_24'],\n",
    "              ['x_31', 'x_32', 'x_33', 'x_34'],\n",
    "              ['x_41', 'x_42', 'x_43', 'x_44']], dtype=object)\n"
   ],
   "metadata": {
    "collapsed": false,
    "ExecuteTime": {
     "end_time": "2023-11-09T23:30:52.669601Z",
     "start_time": "2023-11-09T23:30:52.663553Z"
    }
   },
   "id": "739c2989a7523546"
  },
  {
   "cell_type": "code",
   "execution_count": 105,
   "outputs": [
    {
     "data": {
      "text/plain": "array([['y_11', 'y_12'],\n       ['y_21', 'y_22']], dtype=object)"
     },
     "execution_count": 105,
     "metadata": {},
     "output_type": "execute_result"
    }
   ],
   "source": [
    "B = np.array([['y_11', 'y_12'],\n",
    "              ['y_21', 'y_22']],dtype=object)\n",
    "B"
   ],
   "metadata": {
    "collapsed": false,
    "ExecuteTime": {
     "end_time": "2023-11-09T23:30:52.850341Z",
     "start_time": "2023-11-09T23:30:52.846295Z"
    }
   },
   "id": "f58b8f840807512b"
  },
  {
   "cell_type": "code",
   "execution_count": 106,
   "outputs": [],
   "source": [
    "n = B.shape[0]\n",
    "A[2:2+n,2:2+n] = B"
   ],
   "metadata": {
    "collapsed": false,
    "ExecuteTime": {
     "end_time": "2023-11-09T23:30:53.259951Z",
     "start_time": "2023-11-09T23:30:53.257595Z"
    }
   },
   "id": "3d1214f7adc8b1a1"
  },
  {
   "cell_type": "code",
   "execution_count": 107,
   "outputs": [
    {
     "data": {
      "text/plain": "array([['x_11', 'x_12', 'x_13', 'x_14'],\n       ['x_21', 'x_22', 'x_23', 'x_24'],\n       ['x_31', 'x_32', 'y_11', 'y_12'],\n       ['x_41', 'x_42', 'y_21', 'y_22']], dtype=object)"
     },
     "execution_count": 107,
     "metadata": {},
     "output_type": "execute_result"
    }
   ],
   "source": [
    "A"
   ],
   "metadata": {
    "collapsed": false,
    "ExecuteTime": {
     "end_time": "2023-11-09T23:30:53.609280Z",
     "start_time": "2023-11-09T23:30:53.606258Z"
    }
   },
   "id": "b7816fdf2b6fc8cb"
  },
  {
   "cell_type": "code",
   "execution_count": 89,
   "outputs": [],
   "source": [
    "samples = ['d_1', 'd_2']\n",
    "for i in range(A.shape[0]):\n",
    "    for j in range(len(samples)):\n",
    "        A[i,j+B.shape[0]] += samples[j]\n",
    "        #if i != j:\n",
    "        #    A[j+B.shape[0], i ] =  A[i,j+B.shape[0]]\n",
    "    for j in range(len(samples)):\n",
    "        A[i,j+B.shape[0]] += samples[j]"
   ],
   "metadata": {
    "collapsed": false,
    "ExecuteTime": {
     "end_time": "2023-11-09T23:13:21.680209Z",
     "start_time": "2023-11-09T23:13:21.677478Z"
    }
   },
   "id": "cf8afe3459d1f7a4"
  },
  {
   "cell_type": "code",
   "execution_count": 90,
   "outputs": [
    {
     "data": {
      "text/plain": "array([['y_11', 'y_12', 'x_13d_1', 'x_14d_2'],\n       ['y_21', 'y_22', 'x_23d_1', 'x_24d_2'],\n       ['x_31', 'x_32', 'x_33d_1', 'x_34d_2'],\n       ['x_41', 'x_42', 'x_43d_1', 'x_44d_2']], dtype=object)"
     },
     "execution_count": 90,
     "metadata": {},
     "output_type": "execute_result"
    }
   ],
   "source": [
    "A"
   ],
   "metadata": {
    "collapsed": false,
    "ExecuteTime": {
     "end_time": "2023-11-09T23:13:22.164241Z",
     "start_time": "2023-11-09T23:13:22.160795Z"
    }
   },
   "id": "6a0831d3e47d8512"
  },
  {
   "cell_type": "code",
   "execution_count": 65,
   "outputs": [],
   "source": [],
   "metadata": {
    "collapsed": false,
    "ExecuteTime": {
     "end_time": "2023-11-09T23:12:39.448142Z",
     "start_time": "2023-11-09T23:12:39.442218Z"
    }
   },
   "id": "bb8ba7865d6bfeef"
  },
  {
   "cell_type": "code",
   "execution_count": null,
   "outputs": [],
   "source": [],
   "metadata": {
    "collapsed": false
   },
   "id": "52ac0b0096744fb9"
  }
 ],
 "metadata": {
  "kernelspec": {
   "display_name": "Python 3",
   "language": "python",
   "name": "python3"
  },
  "language_info": {
   "codemirror_mode": {
    "name": "ipython",
    "version": 2
   },
   "file_extension": ".py",
   "mimetype": "text/x-python",
   "name": "python",
   "nbconvert_exporter": "python",
   "pygments_lexer": "ipython2",
   "version": "2.7.6"
  }
 },
 "nbformat": 4,
 "nbformat_minor": 5
}
