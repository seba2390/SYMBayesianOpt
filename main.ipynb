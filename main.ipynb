{
 "cells": [
  {
   "cell_type": "code",
   "execution_count": 1,
   "id": "initial_id",
   "metadata": {
    "collapsed": true,
    "ExecuteTime": {
     "end_time": "2023-11-14T19:00:22.052327Z",
     "start_time": "2023-11-14T19:00:21.460958Z"
    }
   },
   "outputs": [],
   "source": [
    "import numpy as np\n",
    "import matplotlib.pyplot as plt\n",
    "from tqdm import tqdm\n",
    "\n",
    "from src.Optimizer import BayesianOptimization\n",
    "from src.Utils import rosenbrock, rbf_kernel"
   ]
  },
  {
   "cell_type": "code",
   "execution_count": 2,
   "outputs": [
    {
     "data": {
      "text/plain": "{'x': array([0.5, 0.5]), 'y': 0.5}"
     },
     "execution_count": 2,
     "metadata": {},
     "output_type": "execute_result"
    }
   ],
   "source": [
    "n_total_evaluations = 10\n",
    "n_warmup = 5\n",
    "limits = [(0.5,1.15), (0.5,1.5)]\n",
    "opt = BayesianOptimization(kernel=rbf_kernel, \n",
    "                           optimization_function=rosenbrock,\n",
    "                           limits=limits)\n",
    "res = opt.optimize(N_warmup=n_warmup,N_optimize=n_total_evaluations-n_warmup)\n",
    "res"
   ],
   "metadata": {
    "collapsed": false,
    "ExecuteTime": {
     "end_time": "2023-11-14T19:00:22.090744Z",
     "start_time": "2023-11-14T19:00:22.079748Z"
    }
   },
   "id": "f908f6ee9cf25edd"
  },
  {
   "cell_type": "code",
   "execution_count": 3,
   "outputs": [],
   "source": [
    "y = opt.gaussian_process.sample_values"
   ],
   "metadata": {
    "collapsed": false,
    "ExecuteTime": {
     "end_time": "2023-11-14T19:00:22.093046Z",
     "start_time": "2023-11-14T19:00:22.089867Z"
    }
   },
   "id": "765f8702de518a3b"
  },
  {
   "cell_type": "code",
   "execution_count": 4,
   "outputs": [
    {
     "data": {
      "text/plain": "<Figure size 500x300 with 1 Axes>",
      "image/png": "[encoded data removed]"
     },
     "metadata": {},
     "output_type": "display_data"
    }
   ],
   "source": [
    "fig, ax = plt.subplots(1,1, figsize=(5,3))\n",
    "n = [_ for _ in range(len(y))]\n",
    "ax.plot(n,y)\n",
    "plt.show()"
   ],
   "metadata": {
    "collapsed": false,
    "ExecuteTime": {
     "end_time": "2023-11-14T19:00:22.214729Z",
     "start_time": "2023-11-14T19:00:22.093283Z"
    }
   },
   "id": "c79833aa859925b8"
  },
  {
   "cell_type": "code",
   "execution_count": 4,
   "outputs": [],
   "source": [],
   "metadata": {
    "collapsed": false,
    "ExecuteTime": {
     "end_time": "2023-11-14T19:00:22.259657Z",
     "start_time": "2023-11-14T19:00:22.236555Z"
    }
   },
   "id": "2b147fce168e8135"
  }
 ],
 "metadata": {
  "kernelspec": {
   "display_name": "Python 3",
   "language": "python",
   "name": "python3"
  },
  "language_info": {
   "codemirror_mode": {
    "name": "ipython",
    "version": 2
   },
   "file_extension": ".py",
   "mimetype": "text/x-python",
   "name": "python",
   "nbconvert_exporter": "python",
   "pygments_lexer": "ipython2",
   "version": "2.7.6"
  }
 },
 "nbformat": 4,
 "nbformat_minor": 5
}
